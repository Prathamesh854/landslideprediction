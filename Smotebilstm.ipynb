{
 "cells": [
  {
   "cell_type": "code",
   "execution_count": 1,
   "id": "723b8bfc",
   "metadata": {},
   "outputs": [
    {
     "name": "stderr",
     "output_type": "stream",
     "text": [
      "C:\\Anaconda\\Lib\\site-packages\\pandas\\core\\arrays\\masked.py:60: UserWarning: Pandas requires version '1.3.6' or newer of 'bottleneck' (version '1.3.5' currently installed).\n",
      "  from pandas.core import (\n"
     ]
    }
   ],
   "source": [
    "# Import necessary libraries\n",
    "import numpy as np\n",
    "import pandas as pd\n",
    "from sklearn.model_selection import train_test_split\n",
    "from sklearn.preprocessing import StandardScaler\n",
    "from keras.models import Sequential\n",
    "from keras.layers import Bidirectional, LSTM, Dense\n",
    "from keras.optimizers import Adam\n",
    "from sklearn.preprocessing import MinMaxScaler\n",
    "from imblearn.over_sampling import SMOTE\n"
   ]
  },
  {
   "cell_type": "code",
   "execution_count": 2,
   "id": "32c2b772",
   "metadata": {},
   "outputs": [],
   "source": [
    "# Step 2: Load and Preprocess Data\n",
    "data = pd.read_csv('landslidedata.csv')\n",
    "attributes = ['TEMP_MAX', 'TEMP_MIN', 'PRECIPITATION', 'SPECIFIC_HUMIDITY',\n",
    "              'RELATIVE_HUMIDITY', 'WIND_MIN', 'WIND_MAX',\n",
    "              'EARTHQUAKE_DEPTH', 'EARTHQUAKE_MAGNITUDE' ]"
   ]
  },
  {
   "cell_type": "code",
   "execution_count": 3,
   "id": "f2a2c1a0",
   "metadata": {},
   "outputs": [],
   "source": [
    "# Normalize the data\n",
    "scaler = MinMaxScaler()\n",
    "data[attributes] = scaler.fit_transform(data[attributes])"
   ]
  },
  {
   "cell_type": "code",
   "execution_count": 4,
   "id": "fb47cfe6",
   "metadata": {},
   "outputs": [
    {
     "data": {
      "text/html": [
       "<div>\n",
       "<style scoped>\n",
       "    .dataframe tbody tr th:only-of-type {\n",
       "        vertical-align: middle;\n",
       "    }\n",
       "\n",
       "    .dataframe tbody tr th {\n",
       "        vertical-align: top;\n",
       "    }\n",
       "\n",
       "    .dataframe thead th {\n",
       "        text-align: right;\n",
       "    }\n",
       "</style>\n",
       "<table border=\"1\" class=\"dataframe\">\n",
       "  <thead>\n",
       "    <tr style=\"text-align: right;\">\n",
       "      <th></th>\n",
       "      <th>YEAR</th>\n",
       "      <th>MONTH</th>\n",
       "      <th>DAY</th>\n",
       "      <th>TEMP_MAX</th>\n",
       "      <th>TEMP_MIN</th>\n",
       "      <th>PRECIPITATION</th>\n",
       "      <th>RELATIVE_HUMIDITY</th>\n",
       "      <th>SPECIFIC_HUMIDITY</th>\n",
       "      <th>WIND_MIN</th>\n",
       "      <th>WIND_MAX</th>\n",
       "      <th>EARTHQUAKE_DEPTH</th>\n",
       "      <th>EARTHQUAKE_MAGNITUDE</th>\n",
       "      <th>MARKING</th>\n",
       "    </tr>\n",
       "  </thead>\n",
       "  <tbody>\n",
       "    <tr>\n",
       "      <th>10947</th>\n",
       "      <td>2019</td>\n",
       "      <td>12</td>\n",
       "      <td>22</td>\n",
       "      <td>0.201843</td>\n",
       "      <td>0.213046</td>\n",
       "      <td>0.000000</td>\n",
       "      <td>0.830816</td>\n",
       "      <td>0.319088</td>\n",
       "      <td>0.008214</td>\n",
       "      <td>0.215166</td>\n",
       "      <td>0.0</td>\n",
       "      <td>0.0</td>\n",
       "      <td>0</td>\n",
       "    </tr>\n",
       "    <tr>\n",
       "      <th>10948</th>\n",
       "      <td>2019</td>\n",
       "      <td>12</td>\n",
       "      <td>23</td>\n",
       "      <td>0.225712</td>\n",
       "      <td>0.304552</td>\n",
       "      <td>0.000000</td>\n",
       "      <td>0.838833</td>\n",
       "      <td>0.353751</td>\n",
       "      <td>0.117043</td>\n",
       "      <td>0.224645</td>\n",
       "      <td>0.0</td>\n",
       "      <td>0.0</td>\n",
       "      <td>0</td>\n",
       "    </tr>\n",
       "    <tr>\n",
       "      <th>10949</th>\n",
       "      <td>2019</td>\n",
       "      <td>12</td>\n",
       "      <td>24</td>\n",
       "      <td>0.193049</td>\n",
       "      <td>0.243078</td>\n",
       "      <td>0.000000</td>\n",
       "      <td>0.833023</td>\n",
       "      <td>0.333333</td>\n",
       "      <td>0.069815</td>\n",
       "      <td>0.181043</td>\n",
       "      <td>0.0</td>\n",
       "      <td>0.0</td>\n",
       "      <td>0</td>\n",
       "    </tr>\n",
       "    <tr>\n",
       "      <th>10950</th>\n",
       "      <td>2019</td>\n",
       "      <td>12</td>\n",
       "      <td>25</td>\n",
       "      <td>0.155779</td>\n",
       "      <td>0.132802</td>\n",
       "      <td>0.000000</td>\n",
       "      <td>0.807576</td>\n",
       "      <td>0.290123</td>\n",
       "      <td>0.162218</td>\n",
       "      <td>0.234123</td>\n",
       "      <td>0.0</td>\n",
       "      <td>0.0</td>\n",
       "      <td>0</td>\n",
       "    </tr>\n",
       "    <tr>\n",
       "      <th>10951</th>\n",
       "      <td>2019</td>\n",
       "      <td>12</td>\n",
       "      <td>26</td>\n",
       "      <td>0.234925</td>\n",
       "      <td>0.233224</td>\n",
       "      <td>0.015398</td>\n",
       "      <td>0.755287</td>\n",
       "      <td>0.321937</td>\n",
       "      <td>0.045175</td>\n",
       "      <td>0.232227</td>\n",
       "      <td>0.0</td>\n",
       "      <td>0.0</td>\n",
       "      <td>0</td>\n",
       "    </tr>\n",
       "    <tr>\n",
       "      <th>10952</th>\n",
       "      <td>2019</td>\n",
       "      <td>12</td>\n",
       "      <td>27</td>\n",
       "      <td>0.224456</td>\n",
       "      <td>0.298921</td>\n",
       "      <td>0.034565</td>\n",
       "      <td>0.929584</td>\n",
       "      <td>0.405983</td>\n",
       "      <td>0.227926</td>\n",
       "      <td>0.261611</td>\n",
       "      <td>0.0</td>\n",
       "      <td>0.0</td>\n",
       "      <td>1</td>\n",
       "    </tr>\n",
       "    <tr>\n",
       "      <th>10953</th>\n",
       "      <td>2019</td>\n",
       "      <td>12</td>\n",
       "      <td>28</td>\n",
       "      <td>0.158710</td>\n",
       "      <td>0.259972</td>\n",
       "      <td>0.000796</td>\n",
       "      <td>0.883105</td>\n",
       "      <td>0.339031</td>\n",
       "      <td>0.232033</td>\n",
       "      <td>0.233175</td>\n",
       "      <td>0.0</td>\n",
       "      <td>0.0</td>\n",
       "      <td>0</td>\n",
       "    </tr>\n",
       "    <tr>\n",
       "      <th>10954</th>\n",
       "      <td>2019</td>\n",
       "      <td>12</td>\n",
       "      <td>29</td>\n",
       "      <td>0.248325</td>\n",
       "      <td>0.162834</td>\n",
       "      <td>0.000159</td>\n",
       "      <td>0.827911</td>\n",
       "      <td>0.336182</td>\n",
       "      <td>0.209446</td>\n",
       "      <td>0.284360</td>\n",
       "      <td>0.0</td>\n",
       "      <td>0.0</td>\n",
       "      <td>0</td>\n",
       "    </tr>\n",
       "    <tr>\n",
       "      <th>10955</th>\n",
       "      <td>2019</td>\n",
       "      <td>12</td>\n",
       "      <td>30</td>\n",
       "      <td>0.239531</td>\n",
       "      <td>0.235101</td>\n",
       "      <td>0.000000</td>\n",
       "      <td>0.832210</td>\n",
       "      <td>0.371320</td>\n",
       "      <td>0.039014</td>\n",
       "      <td>0.298578</td>\n",
       "      <td>0.0</td>\n",
       "      <td>0.0</td>\n",
       "      <td>0</td>\n",
       "    </tr>\n",
       "    <tr>\n",
       "      <th>10956</th>\n",
       "      <td>2019</td>\n",
       "      <td>12</td>\n",
       "      <td>31</td>\n",
       "      <td>0.306114</td>\n",
       "      <td>0.392304</td>\n",
       "      <td>0.000000</td>\n",
       "      <td>0.840228</td>\n",
       "      <td>0.426401</td>\n",
       "      <td>0.151951</td>\n",
       "      <td>0.185782</td>\n",
       "      <td>0.0</td>\n",
       "      <td>0.0</td>\n",
       "      <td>0</td>\n",
       "    </tr>\n",
       "  </tbody>\n",
       "</table>\n",
       "</div>"
      ],
      "text/plain": [
       "       YEAR  MONTH  DAY  TEMP_MAX  TEMP_MIN  PRECIPITATION  RELATIVE_HUMIDITY  \\\n",
       "10947  2019     12   22  0.201843  0.213046       0.000000           0.830816   \n",
       "10948  2019     12   23  0.225712  0.304552       0.000000           0.838833   \n",
       "10949  2019     12   24  0.193049  0.243078       0.000000           0.833023   \n",
       "10950  2019     12   25  0.155779  0.132802       0.000000           0.807576   \n",
       "10951  2019     12   26  0.234925  0.233224       0.015398           0.755287   \n",
       "10952  2019     12   27  0.224456  0.298921       0.034565           0.929584   \n",
       "10953  2019     12   28  0.158710  0.259972       0.000796           0.883105   \n",
       "10954  2019     12   29  0.248325  0.162834       0.000159           0.827911   \n",
       "10955  2019     12   30  0.239531  0.235101       0.000000           0.832210   \n",
       "10956  2019     12   31  0.306114  0.392304       0.000000           0.840228   \n",
       "\n",
       "       SPECIFIC_HUMIDITY  WIND_MIN  WIND_MAX  EARTHQUAKE_DEPTH  \\\n",
       "10947           0.319088  0.008214  0.215166               0.0   \n",
       "10948           0.353751  0.117043  0.224645               0.0   \n",
       "10949           0.333333  0.069815  0.181043               0.0   \n",
       "10950           0.290123  0.162218  0.234123               0.0   \n",
       "10951           0.321937  0.045175  0.232227               0.0   \n",
       "10952           0.405983  0.227926  0.261611               0.0   \n",
       "10953           0.339031  0.232033  0.233175               0.0   \n",
       "10954           0.336182  0.209446  0.284360               0.0   \n",
       "10955           0.371320  0.039014  0.298578               0.0   \n",
       "10956           0.426401  0.151951  0.185782               0.0   \n",
       "\n",
       "       EARTHQUAKE_MAGNITUDE  MARKING  \n",
       "10947                   0.0        0  \n",
       "10948                   0.0        0  \n",
       "10949                   0.0        0  \n",
       "10950                   0.0        0  \n",
       "10951                   0.0        0  \n",
       "10952                   0.0        1  \n",
       "10953                   0.0        0  \n",
       "10954                   0.0        0  \n",
       "10955                   0.0        0  \n",
       "10956                   0.0        0  "
      ]
     },
     "execution_count": 4,
     "metadata": {},
     "output_type": "execute_result"
    }
   ],
   "source": [
    "data.tail(10)"
   ]
  },
  {
   "cell_type": "code",
   "execution_count": 5,
   "id": "18ff171d",
   "metadata": {},
   "outputs": [],
   "source": [
    "# Split data into training and testing sets\n",
    "X = data[attributes].values\n",
    "y = data['MARKING'].values  # Assuming you have a 'LANDSLIDE_LABEL' column for labels\n",
    "\n",
    "X_train, X_test, y_train, y_test = train_test_split(X, y, test_size=0.30, random_state=42)"
   ]
  },
  {
   "cell_type": "code",
   "execution_count": 6,
   "id": "d3bc0682",
   "metadata": {},
   "outputs": [
    {
     "data": {
      "text/plain": [
       "{0: 5297, 1: 2372}"
      ]
     },
     "execution_count": 6,
     "metadata": {},
     "output_type": "execute_result"
    }
   ],
   "source": [
    "unique, count = np.unique(y_train, return_counts=True)\n",
    "y_train_dict_value_count = {k:v for (k,v) in zip(unique,count)}\n",
    "y_train_dict_value_count"
   ]
  },
  {
   "cell_type": "code",
   "execution_count": 7,
   "id": "305d1504",
   "metadata": {},
   "outputs": [],
   "source": [
    "sm = SMOTE(random_state =12, sampling_strategy = 1.0)\n",
    "# x_train_result, y_train_result = sm.fit_sample(X_train, y_train)\n",
    "x_train_result, y_train_result = sm.fit_resample(X_train, y_train)"
   ]
  },
  {
   "cell_type": "code",
   "execution_count": 8,
   "id": "ad62f7a6",
   "metadata": {},
   "outputs": [
    {
     "data": {
      "text/plain": [
       "{0: 5297, 1: 5297}"
      ]
     },
     "execution_count": 8,
     "metadata": {},
     "output_type": "execute_result"
    }
   ],
   "source": [
    "unique, count = np.unique(y_train_result, return_counts=True)\n",
    "y_train_smote_value_count = {k:v for (k,v) in zip(unique,count)}\n",
    "y_train_smote_value_count"
   ]
  },
  {
   "cell_type": "code",
   "execution_count": 9,
   "id": "9f755ff4",
   "metadata": {},
   "outputs": [],
   "source": [
    "# Reshape the data for LSTM input\n",
    "x_train_result = x_train_result.reshape(x_train_result.shape[0], x_train_result.shape[1], 1)\n",
    "X_test = X_test.reshape(X_test.shape[0], X_test.shape[1], 1)"
   ]
  },
  {
   "cell_type": "code",
   "execution_count": 10,
   "id": "50179aa6",
   "metadata": {},
   "outputs": [],
   "source": [
    "from tensorflow.keras.models import Sequential\n",
    "from tensorflow.keras.layers import Bidirectional, LSTM, Dense"
   ]
  },
  {
   "cell_type": "code",
   "execution_count": 11,
   "id": "d1ff58ba",
   "metadata": {},
   "outputs": [],
   "source": [
    "# Define the model\n",
    "bilstm = Sequential()"
   ]
  },
  {
   "cell_type": "code",
   "execution_count": 12,
   "id": "4a287929",
   "metadata": {},
   "outputs": [],
   "source": [
    "# Add the Bidirectional LSTM layer with 128 units and 'relu' activation\n",
    "bilstm.add(Bidirectional(LSTM(128, activation='relu', input_shape=(x_train_result.shape[1], 1))))\n",
    "\n",
    "# Add more layers\n",
    "bilstm.add(Dense(64, activation='relu'))  # Adding a Dense layer with 64 units and 'relu' activation\n",
    "bilstm.add(Dense(32, activation='relu'))  # Adding another Dense layer with 32 units and 'relu' activation\n",
    "\n",
    "# Output layer\n",
    "bilstm.add(Dense(1, activation='sigmoid'))  # Output layer with 1 unit and 'sigmoid' activation\n",
    "\n",
    "# Compile the model\n",
    "bilstm.compile(optimizer='adam', loss='binary_crossentropy', metrics=['accuracy'])"
   ]
  },
  {
   "cell_type": "code",
   "execution_count": 13,
   "id": "7430e97f",
   "metadata": {},
   "outputs": [
    {
     "name": "stdout",
     "output_type": "stream",
     "text": [
      "Epoch 1/50\n",
      "332/332 [==============================] - 18s 28ms/step - loss: 0.3893 - accuracy: 0.8145 - val_loss: 0.2209 - val_accuracy: 0.8908\n",
      "Epoch 2/50\n",
      "332/332 [==============================] - 9s 28ms/step - loss: 0.1776 - accuracy: 0.9285 - val_loss: 0.4524 - val_accuracy: 0.8476\n",
      "Epoch 3/50\n",
      "332/332 [==============================] - 9s 27ms/step - loss: 0.1608 - accuracy: 0.9425 - val_loss: 0.0894 - val_accuracy: 0.9662\n",
      "Epoch 4/50\n",
      "332/332 [==============================] - 10s 31ms/step - loss: 0.1352 - accuracy: 0.9478 - val_loss: 0.1379 - val_accuracy: 0.9304\n",
      "Epoch 5/50\n",
      "332/332 [==============================] - 8s 25ms/step - loss: 0.1245 - accuracy: 0.9543 - val_loss: 0.1652 - val_accuracy: 0.9164\n",
      "Epoch 6/50\n",
      "332/332 [==============================] - 8s 25ms/step - loss: 0.1017 - accuracy: 0.9591 - val_loss: 0.0757 - val_accuracy: 0.9778\n",
      "Epoch 7/50\n",
      "332/332 [==============================] - 10s 29ms/step - loss: 0.0862 - accuracy: 0.9659 - val_loss: 0.0933 - val_accuracy: 0.9562\n",
      "Epoch 8/50\n",
      "332/332 [==============================] - 8s 25ms/step - loss: 0.0823 - accuracy: 0.9670 - val_loss: 0.0795 - val_accuracy: 0.9605\n",
      "Epoch 9/50\n",
      "332/332 [==============================] - 8s 24ms/step - loss: 0.0778 - accuracy: 0.9701 - val_loss: 0.3268 - val_accuracy: 0.9002\n",
      "Epoch 10/50\n",
      "332/332 [==============================] - 9s 28ms/step - loss: 0.0791 - accuracy: 0.9674 - val_loss: 0.3293 - val_accuracy: 0.9048\n",
      "Epoch 11/50\n",
      "332/332 [==============================] - 10s 30ms/step - loss: 0.0829 - accuracy: 0.9660 - val_loss: 0.0742 - val_accuracy: 0.9650\n",
      "Epoch 12/50\n",
      "332/332 [==============================] - 10s 30ms/step - loss: 0.0801 - accuracy: 0.9672 - val_loss: 0.1481 - val_accuracy: 0.9352\n",
      "Epoch 13/50\n",
      "332/332 [==============================] - 7s 20ms/step - loss: 0.0678 - accuracy: 0.9726 - val_loss: 0.0464 - val_accuracy: 0.9814\n",
      "Epoch 14/50\n",
      "332/332 [==============================] - 7s 20ms/step - loss: 0.0801 - accuracy: 0.9676 - val_loss: 0.3403 - val_accuracy: 0.8978\n",
      "Epoch 15/50\n",
      "332/332 [==============================] - 10s 30ms/step - loss: 0.0787 - accuracy: 0.9691 - val_loss: 0.1149 - val_accuracy: 0.9498\n",
      "Epoch 16/50\n",
      "332/332 [==============================] - 10s 31ms/step - loss: 0.0626 - accuracy: 0.9753 - val_loss: 0.2944 - val_accuracy: 0.9066\n",
      "Epoch 17/50\n",
      "332/332 [==============================] - 10s 31ms/step - loss: 0.0659 - accuracy: 0.9739 - val_loss: 0.0964 - val_accuracy: 0.9602\n",
      "Epoch 18/50\n",
      "332/332 [==============================] - 10s 31ms/step - loss: 0.0752 - accuracy: 0.9693 - val_loss: 0.0692 - val_accuracy: 0.9675\n",
      "Epoch 19/50\n",
      "332/332 [==============================] - 11s 34ms/step - loss: 0.0667 - accuracy: 0.9747 - val_loss: 0.1190 - val_accuracy: 0.9480\n",
      "Epoch 20/50\n",
      "332/332 [==============================] - 11s 34ms/step - loss: 0.0739 - accuracy: 0.9712 - val_loss: 0.0522 - val_accuracy: 0.9781\n",
      "Epoch 21/50\n",
      "332/332 [==============================] - 11s 33ms/step - loss: 0.0676 - accuracy: 0.9728 - val_loss: 0.0654 - val_accuracy: 0.9681\n",
      "Epoch 22/50\n",
      "332/332 [==============================] - 11s 35ms/step - loss: 0.0606 - accuracy: 0.9750 - val_loss: 0.0894 - val_accuracy: 0.9586\n",
      "Epoch 23/50\n",
      "332/332 [==============================] - 11s 33ms/step - loss: 0.0722 - accuracy: 0.9705 - val_loss: 0.1373 - val_accuracy: 0.9319\n",
      "Epoch 24/50\n",
      "332/332 [==============================] - 13s 41ms/step - loss: 0.0711 - accuracy: 0.9713 - val_loss: 0.0467 - val_accuracy: 0.9833\n",
      "Epoch 25/50\n",
      "332/332 [==============================] - 14s 41ms/step - loss: 0.0691 - accuracy: 0.9729 - val_loss: 0.1972 - val_accuracy: 0.9215\n",
      "Epoch 26/50\n",
      "332/332 [==============================] - 11s 34ms/step - loss: 0.0699 - accuracy: 0.9722 - val_loss: 0.1445 - val_accuracy: 0.9413\n",
      "Epoch 27/50\n",
      "332/332 [==============================] - 10s 29ms/step - loss: 0.0688 - accuracy: 0.9711 - val_loss: 0.0700 - val_accuracy: 0.9675\n",
      "Epoch 28/50\n",
      "332/332 [==============================] - 10s 29ms/step - loss: 0.0749 - accuracy: 0.9695 - val_loss: 0.0806 - val_accuracy: 0.9629\n",
      "Epoch 29/50\n",
      "332/332 [==============================] - 10s 29ms/step - loss: 0.0778 - accuracy: 0.9696 - val_loss: 0.1275 - val_accuracy: 0.9377\n",
      "Epoch 30/50\n",
      "332/332 [==============================] - 10s 29ms/step - loss: 0.0588 - accuracy: 0.9778 - val_loss: 0.0644 - val_accuracy: 0.9696\n",
      "Epoch 31/50\n",
      "332/332 [==============================] - 10s 29ms/step - loss: 0.0564 - accuracy: 0.9779 - val_loss: 0.0431 - val_accuracy: 0.9821\n",
      "Epoch 32/50\n",
      "332/332 [==============================] - 10s 29ms/step - loss: 0.0590 - accuracy: 0.9771 - val_loss: 0.0441 - val_accuracy: 0.9842\n",
      "Epoch 33/50\n",
      "332/332 [==============================] - 10s 29ms/step - loss: 0.0577 - accuracy: 0.9765 - val_loss: 0.0951 - val_accuracy: 0.9544\n",
      "Epoch 34/50\n",
      "332/332 [==============================] - 10s 29ms/step - loss: 0.0561 - accuracy: 0.9775 - val_loss: 0.0607 - val_accuracy: 0.9814\n",
      "Epoch 35/50\n",
      "332/332 [==============================] - 10s 29ms/step - loss: 0.0598 - accuracy: 0.9749 - val_loss: 0.0497 - val_accuracy: 0.9796\n",
      "Epoch 36/50\n",
      "332/332 [==============================] - 9s 29ms/step - loss: 0.0707 - accuracy: 0.9730 - val_loss: 0.0432 - val_accuracy: 0.9836\n",
      "Epoch 37/50\n",
      "332/332 [==============================] - 9s 28ms/step - loss: 0.0508 - accuracy: 0.9795 - val_loss: 0.2312 - val_accuracy: 0.9273\n",
      "Epoch 38/50\n",
      "332/332 [==============================] - 9s 28ms/step - loss: 0.0481 - accuracy: 0.9811 - val_loss: 0.0369 - val_accuracy: 0.9842\n",
      "Epoch 39/50\n",
      "332/332 [==============================] - 9s 28ms/step - loss: 0.0469 - accuracy: 0.9812 - val_loss: 0.0457 - val_accuracy: 0.9799\n",
      "Epoch 40/50\n",
      "332/332 [==============================] - 10s 29ms/step - loss: 0.0523 - accuracy: 0.9784 - val_loss: 0.1081 - val_accuracy: 0.9541\n",
      "Epoch 41/50\n",
      "332/332 [==============================] - 9s 28ms/step - loss: 0.0552 - accuracy: 0.9778 - val_loss: 0.0437 - val_accuracy: 0.9821\n",
      "Epoch 42/50\n",
      "332/332 [==============================] - 9s 28ms/step - loss: 0.0549 - accuracy: 0.9778 - val_loss: 0.1083 - val_accuracy: 0.9550\n",
      "Epoch 43/50\n",
      "332/332 [==============================] - 9s 28ms/step - loss: 0.0541 - accuracy: 0.9798 - val_loss: 0.3631 - val_accuracy: 0.9015\n",
      "Epoch 44/50\n",
      "332/332 [==============================] - 9s 28ms/step - loss: 0.0709 - accuracy: 0.9750 - val_loss: 0.1038 - val_accuracy: 0.9544\n",
      "Epoch 45/50\n",
      "332/332 [==============================] - 9s 27ms/step - loss: 0.0590 - accuracy: 0.9756 - val_loss: 0.0447 - val_accuracy: 0.9805\n",
      "Epoch 46/50\n",
      "332/332 [==============================] - 9s 27ms/step - loss: 0.0577 - accuracy: 0.9763 - val_loss: 0.1013 - val_accuracy: 0.9565\n",
      "Epoch 47/50\n",
      "332/332 [==============================] - 9s 28ms/step - loss: 0.0475 - accuracy: 0.9815 - val_loss: 0.0382 - val_accuracy: 0.9833\n",
      "Epoch 48/50\n",
      "332/332 [==============================] - 9s 27ms/step - loss: 0.0495 - accuracy: 0.9802 - val_loss: 0.0574 - val_accuracy: 0.9714\n",
      "Epoch 49/50\n",
      "332/332 [==============================] - 9s 28ms/step - loss: 0.0515 - accuracy: 0.9789 - val_loss: 0.2280 - val_accuracy: 0.9261\n",
      "Epoch 50/50\n",
      "332/332 [==============================] - 9s 28ms/step - loss: 0.0484 - accuracy: 0.9807 - val_loss: 0.0485 - val_accuracy: 0.9769\n"
     ]
    },
    {
     "data": {
      "text/plain": [
       "<keras.src.callbacks.History at 0x15ddd897410>"
      ]
     },
     "execution_count": 13,
     "metadata": {},
     "output_type": "execute_result"
    }
   ],
   "source": [
    "# Train the model\n",
    "bilstm.fit(x_train_result, y_train_result, epochs=50, batch_size=32, validation_data=(X_test, y_test))"
   ]
  },
  {
   "cell_type": "code",
   "execution_count": 14,
   "id": "80b579e7",
   "metadata": {},
   "outputs": [
    {
     "name": "stdout",
     "output_type": "stream",
     "text": [
      "103/103 [==============================] - 1s 12ms/step - loss: 0.0485 - accuracy: 0.9769\n",
      "Accuracy: 97.69%\n"
     ]
    }
   ],
   "source": [
    "# Evaluate the model\n",
    "loss, accuracy = bilstm.evaluate(X_test, y_test)\n",
    "print(f'Accuracy: {accuracy*100:.2f}%')"
   ]
  },
  {
   "cell_type": "code",
   "execution_count": 15,
   "id": "3b0ef8e4",
   "metadata": {},
   "outputs": [],
   "source": [
    "import pickle "
   ]
  },
  {
   "cell_type": "code",
   "execution_count": 16,
   "id": "21e3236e",
   "metadata": {},
   "outputs": [],
   "source": [
    "with open('bilstm.pickle', 'wb') as f:\n",
    "    pickle.dump(bilstm , f)\n"
   ]
  },
  {
   "cell_type": "code",
   "execution_count": 17,
   "id": "9b0e3faf",
   "metadata": {},
   "outputs": [],
   "source": [
    "with open('bilstm.pickle', 'rb') as f:\n",
    "    loaded_model = pickle.load(f)"
   ]
  },
  {
   "cell_type": "code",
   "execution_count": 18,
   "id": "d1e0bfa7",
   "metadata": {},
   "outputs": [
    {
     "name": "stdout",
     "output_type": "stream",
     "text": [
      "<keras.src.engine.sequential.Sequential object at 0x0000015DE371AF50>\n"
     ]
    }
   ],
   "source": [
    "print(loaded_model)"
   ]
  },
  {
   "cell_type": "code",
   "execution_count": 19,
   "id": "1ad9bc87",
   "metadata": {},
   "outputs": [
    {
     "name": "stdout",
     "output_type": "stream",
     "text": [
      "Enter new attributes:\n",
      "Enter value for TEMP_MAX: 33\n",
      "Enter value for TEMP_MIN: 25\n",
      "Enter value for PRECIPITATION: 2.3\n",
      "Enter value for SPECIFIC_HUMIDITY: 75\n",
      "Enter value for RELATIVE_HUMIDITY: 12\n",
      "Enter value for WIND_MIN: 2.3\n",
      "Enter value for WIND_MAX: 3.1\n",
      "Enter value for EARTHQUAKE_DEPTH: 0\n",
      "Enter value for EARTHQUAKE_MAGNITUDE: 0\n"
     ]
    },
    {
     "name": "stderr",
     "output_type": "stream",
     "text": [
      "C:\\Anaconda\\Lib\\site-packages\\sklearn\\base.py:493: UserWarning: X does not have valid feature names, but MinMaxScaler was fitted with feature names\n",
      "  warnings.warn(\n"
     ]
    },
    {
     "name": "stdout",
     "output_type": "stream",
     "text": [
      "1/1 [==============================] - 1s 847ms/step\n",
      "Predicted Marking: Landslide\n",
      "Do you want to continue? (yes/no): NO\n"
     ]
    }
   ],
   "source": [
    "# Initialize a flag to continue taking input\n",
    "continue_input = True\n",
    "\n",
    "while continue_input:\n",
    "    new_attributes = []\n",
    "\n",
    "    print(\"Enter new attributes:\")\n",
    "    for attribute in attributes:\n",
    "        value = float(input(f\"Enter value for {attribute}: \"))\n",
    "        new_attributes.append(value)\n",
    "\n",
    "    # Normalize the new attributes using the same scaler\n",
    "    new_attributes = np.array(new_attributes).reshape(1, -1)\n",
    "    new_attributes = scaler.transform(new_attributes)\n",
    "\n",
    "    # Reshape the new attributes for LSTM input\n",
    "    new_attributes = new_attributes.reshape(1, new_attributes.shape[1], 1)\n",
    "\n",
    "    # Predict marking for new attributes\n",
    "    predicted_prob = loaded_model.predict(new_attributes)\n",
    "    predicted_marking = \"Landslide\" if predicted_prob >= 0.5 else \"No Landslide\"\n",
    "    print(\"Predicted Marking:\", predicted_marking)\n",
    "\n",
    "    # Ask if user wants to continue\n",
    "    user_input = input(\"Do you want to continue? (yes/no): \")\n",
    "    if user_input.lower() != 'yes':\n",
    "        continue_input = False\n"
   ]
  },
  {
   "cell_type": "code",
   "execution_count": null,
   "id": "b5708798",
   "metadata": {},
   "outputs": [],
   "source": []
  }
 ],
 "metadata": {
  "kernelspec": {
   "display_name": "Python 3 (ipykernel)",
   "language": "python",
   "name": "python3"
  },
  "language_info": {
   "codemirror_mode": {
    "name": "ipython",
    "version": 3
   },
   "file_extension": ".py",
   "mimetype": "text/x-python",
   "name": "python",
   "nbconvert_exporter": "python",
   "pygments_lexer": "ipython3",
   "version": "3.11.5"
  }
 },
 "nbformat": 4,
 "nbformat_minor": 5
}
